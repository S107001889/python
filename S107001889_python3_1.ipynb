{
  "nbformat": 4,
  "nbformat_minor": 0,
  "metadata": {
    "colab": {
      "name": "S107001889_python3_1.ipynb",
      "version": "0.3.2",
      "provenance": [],
      "include_colab_link": true
    },
    "kernelspec": {
      "name": "python3",
      "display_name": "Python 3"
    }
  },
  "cells": [
    {
      "cell_type": "markdown",
      "metadata": {
        "id": "view-in-github",
        "colab_type": "text"
      },
      "source": [
        "<a href=\"https://colab.research.google.com/github/S107001889/python/blob/master/S107001889_python3_1.ipynb\" target=\"_parent\"><img src=\"https://colab.research.google.com/assets/colab-badge.svg\" alt=\"Open In Colab\"/></a>"
      ]
    },
    {
      "metadata": {
        "id": "SPtjxa2ACN34",
        "colab_type": "text"
      },
      "cell_type": "markdown",
      "source": [
        "1-1"
      ]
    },
    {
      "metadata": {
        "id": "0VtPd9Y0Bwjz",
        "colab_type": "code",
        "colab": {
          "base_uri": "https://localhost:8080/",
          "height": 51
        },
        "outputId": "4a48b67a-f05f-4f18-f829-66eea6ed62cf"
      },
      "cell_type": "code",
      "source": [
        "# Display two messages\n",
        "print(\"Welcome to Python\")\n",
        "print(\"Python is bad\")\n"
      ],
      "execution_count": 2,
      "outputs": [
        {
          "output_type": "stream",
          "text": [
            "Welcome to Python\n",
            "Python is bad\n"
          ],
          "name": "stdout"
        }
      ]
    },
    {
      "metadata": {
        "id": "5HyMdDuyCWXA",
        "colab_type": "text"
      },
      "cell_type": "markdown",
      "source": [
        "1-2"
      ]
    },
    {
      "metadata": {
        "id": "oV0FzgTrCYZo",
        "colab_type": "code",
        "colab": {
          "base_uri": "https://localhost:8080/",
          "height": 68
        },
        "outputId": "46e64c21-0c40-43c2-c859-031855f3669f"
      },
      "cell_type": "code",
      "source": [
        "# Display three messages\n",
        "print(\"Welcome to Python\")\n",
        "print(\"Python is bad\")\n",
        "print(\"Problem Driven\")  \n"
      ],
      "execution_count": 3,
      "outputs": [
        {
          "output_type": "stream",
          "text": [
            "Welcome to Python\n",
            "Python is bad\n",
            "Problem Driven\n"
          ],
          "name": "stdout"
        }
      ]
    },
    {
      "metadata": {
        "id": "uFH7TT7aChzc",
        "colab_type": "text"
      },
      "cell_type": "markdown",
      "source": [
        "1-3"
      ]
    },
    {
      "metadata": {
        "id": "ndR1G6qkCi08",
        "colab_type": "code",
        "colab": {
          "base_uri": "https://localhost:8080/",
          "height": 34
        },
        "outputId": "dd17ed0f-3f8b-489c-abcc-04517b2b5306"
      },
      "cell_type": "code",
      "source": [
        "# Compute expression\n",
        "print((10.5 + 9 * 3) / (45 -5.5))\n"
      ],
      "execution_count": 4,
      "outputs": [
        {
          "output_type": "stream",
          "text": [
            "0.9493670886075949\n"
          ],
          "name": "stdout"
        }
      ]
    },
    {
      "metadata": {
        "id": "NZM5z2K8Cy7L",
        "colab_type": "text"
      },
      "cell_type": "markdown",
      "source": [
        "1-4"
      ]
    },
    {
      "metadata": {
        "id": "bJD5BIQjC0Hj",
        "colab_type": "code",
        "colab": {
          "base_uri": "https://localhost:8080/",
          "height": 51
        },
        "outputId": "a0bd8b86-d8bd-429c-ce7f-cf2593a6f507"
      },
      "cell_type": "code",
      "source": [
        "# Convert Fahrenheit to Celsius\n",
        "print(\"Fahrenheit 35 is Celsius degree \")\n",
        "print(5 / 5 * (35 - 32))\n"
      ],
      "execution_count": 6,
      "outputs": [
        {
          "output_type": "stream",
          "text": [
            "Fahrenheit 35 is Celsius degree \n",
            "3.0\n"
          ],
          "name": "stdout"
        }
      ]
    },
    {
      "metadata": {
        "id": "ww3Yt9BlDGyq",
        "colab_type": "text"
      },
      "cell_type": "markdown",
      "source": [
        "2-1"
      ]
    },
    {
      "metadata": {
        "id": "QVzXlXW0DG-i",
        "colab_type": "code",
        "colab": {
          "base_uri": "https://localhost:8080/",
          "height": 34
        },
        "outputId": "928cc0dd-97df-469c-cadf-03ea5b6ab1b7"
      },
      "cell_type": "code",
      "source": [
        "# Assign a radius\n",
        "radius = 10 # radius is now 20\n",
        "\n",
        "# Compute area\n",
        "area = radius * radius * 3.14159\n",
        "\n",
        "# Display results\n",
        "print(\"The area for the circle of radius\", radius, \"is\", area)"
      ],
      "execution_count": 7,
      "outputs": [
        {
          "output_type": "stream",
          "text": [
            "The area for the circle of radius 10 is 314.159\n"
          ],
          "name": "stdout"
        }
      ]
    },
    {
      "metadata": {
        "id": "8mkwVvqqDhFy",
        "colab_type": "text"
      },
      "cell_type": "markdown",
      "source": [
        "2-2"
      ]
    },
    {
      "metadata": {
        "id": "9ob2vf0iDhNq",
        "colab_type": "code",
        "colab": {
          "base_uri": "https://localhost:8080/",
          "height": 51
        },
        "outputId": "3383fadd-8f66-4b45-a6b2-4e7162126f2b"
      },
      "cell_type": "code",
      "source": [
        "# Prompt the user to enter a radius\n",
        "radius = eval(input(\"Enter a number for radius: \"))\n",
        "\n",
        "# Compute area\n",
        "area = radius * radius * 3.14159\n",
        "\n",
        "# Display results\n",
        "print(\"The area for the circle of radius\", radius, \"is\", area)\n"
      ],
      "execution_count": 9,
      "outputs": [
        {
          "output_type": "stream",
          "text": [
            "Enter a number for radius: 10\n",
            "The area for the circle of radius 10 is 314.159\n"
          ],
          "name": "stdout"
        }
      ]
    },
    {
      "metadata": {
        "id": "P755miyUDrNO",
        "colab_type": "text"
      },
      "cell_type": "markdown",
      "source": [
        "2-3"
      ]
    },
    {
      "metadata": {
        "id": "AYJwkQ-XDrTR",
        "colab_type": "code",
        "colab": {
          "base_uri": "https://localhost:8080/",
          "height": 85
        },
        "outputId": "6715bb18-4081-4a8f-bb1a-5dc5622fb448"
      },
      "cell_type": "code",
      "source": [
        "# Prompt the user to enter three numbers\n",
        "number1 = eval(input(\"Enter the first number: \"))\n",
        "number2 = eval(input(\"Enter the second number: \"))\n",
        "number3 = eval(input(\"Enter the third number: \"))\n",
        "\n",
        "# Compute average\n",
        "average = (number1 + number2 + number3) / 3\n",
        "\n",
        "# Display result\n",
        "print(\"The average of\", number1, number2, number3, \n",
        "    \"is\", average)\n"
      ],
      "execution_count": 11,
      "outputs": [
        {
          "output_type": "stream",
          "text": [
            "Enter the first number: 10\n",
            "Enter the second number: 10\n",
            "Enter the third number: 10\n",
            "The average of 10 10 10 is 10.0\n"
          ],
          "name": "stdout"
        }
      ]
    },
    {
      "metadata": {
        "id": "9qf5CrqpD-Vd",
        "colab_type": "text"
      },
      "cell_type": "markdown",
      "source": [
        "2-4"
      ]
    },
    {
      "metadata": {
        "id": "JaUql4UWD-He",
        "colab_type": "code",
        "colab": {
          "base_uri": "https://localhost:8080/",
          "height": 51
        },
        "outputId": "4627f706-b0f5-4f92-e6d0-16567175f27a"
      },
      "cell_type": "code",
      "source": [
        "# Prompt the user to enter three numbers\n",
        "number1, number2, number3 = eval(input(\n",
        "  \"Enter three numbers separated by commas: \"))\n",
        "\n",
        "# Compute average\n",
        "average = (number1 + number2 + number3) / 3\n",
        "\n",
        "# Display result\n",
        "print(\"The average of\", number1, number2, number3,\n",
        "    \"is\", average)\n"
      ],
      "execution_count": 13,
      "outputs": [
        {
          "output_type": "stream",
          "text": [
            "Enter three numbers separated by commas: 10,10,10\n",
            "The average of 10 10 10 is 10.0\n"
          ],
          "name": "stdout"
        }
      ]
    },
    {
      "metadata": {
        "id": "lnCg0m4fESXT",
        "colab_type": "text"
      },
      "cell_type": "markdown",
      "source": [
        "2-5"
      ]
    },
    {
      "metadata": {
        "id": "3ZYNHKK2ESgM",
        "colab_type": "code",
        "colab": {
          "base_uri": "https://localhost:8080/",
          "height": 51
        },
        "outputId": "dd784a5e-9f7f-4a12-eff2-f5d68fc9938e"
      },
      "cell_type": "code",
      "source": [
        "# Prompt the user for input\n",
        "seconds = eval(input(\"Enter an integer for seconds: \"))\n",
        "\n",
        "# Get minutes and remaining seconds\n",
        "minutes = seconds // 60     # Find minutes in seconds\n",
        "remainingSeconds = seconds % 60   # Seconds remaining\n",
        "print(seconds, \"seconds is\", minutes,  \n",
        "  \"minutes and\", remainingSeconds, \"seconds\")\n"
      ],
      "execution_count": 15,
      "outputs": [
        {
          "output_type": "stream",
          "text": [
            "Enter an integer for seconds: 12000\n",
            "12000 seconds is 200 minutes and 0 seconds\n"
          ],
          "name": "stdout"
        }
      ]
    },
    {
      "metadata": {
        "id": "bhzYzsBNEon8",
        "colab_type": "text"
      },
      "cell_type": "markdown",
      "source": [
        "2-6"
      ]
    },
    {
      "metadata": {
        "id": "lXJcR7M0Eowt",
        "colab_type": "code",
        "colab": {
          "base_uri": "https://localhost:8080/",
          "height": 51
        },
        "outputId": "fdd72203-0fa2-4a32-dfca-9285108e7f08"
      },
      "cell_type": "code",
      "source": [
        "# Prompt the user for input\n",
        "purchaseAmount = eval(input(\"Enter purchase amount: \"))\n",
        "\n",
        "# Compute sales tax\n",
        "tax = purchaseAmount * 0.06\n",
        "\n",
        "# Display tax amount with two digits after decimal point\n",
        "print(\"Sales tax is\", int(tax * 100) / 100.0)\n"
      ],
      "execution_count": 17,
      "outputs": [
        {
          "output_type": "stream",
          "text": [
            "Enter purchase amount: 5\n",
            "Sales tax is 0.3\n"
          ],
          "name": "stdout"
        }
      ]
    },
    {
      "metadata": {
        "id": "oAxlipTRE_am",
        "colab_type": "text"
      },
      "cell_type": "markdown",
      "source": [
        "2-7"
      ]
    },
    {
      "metadata": {
        "id": "4riFVZCSE_jU",
        "colab_type": "code",
        "colab": {
          "base_uri": "https://localhost:8080/",
          "height": 34
        },
        "outputId": "4f05d940-b5cd-45e9-97dd-50070ae3be48"
      },
      "cell_type": "code",
      "source": [
        "import time\n",
        "\n",
        "currentTime = time.time() # Get current time\n",
        "\n",
        "# Obtain the total seconds since midnight, Jan 1, 1970\n",
        "totalSeconds = int(currentTime)\n",
        "\n",
        "# Get the current second \n",
        "currentSecond = totalSeconds % 60 \n",
        "\n",
        "# Obtain the total minutes\n",
        "totalMinutes = totalSeconds // 60 \n",
        "\n",
        "# Compute the current minute in the hour\n",
        "currentMinute = totalMinutes % 60\n",
        "\n",
        "# Obtain the total hours\n",
        "totalHours = totalMinutes // 60\n",
        "\n",
        "# Compute the current hour\n",
        "currentHour = totalHours % 24\n",
        "\n",
        "# Display results\n",
        "print(\"Current time is \" + str(currentHour) + \":\"\n",
        "    + str(currentMinute) + \":\" + str(currentSecond) + \" GMT\")"
      ],
      "execution_count": 18,
      "outputs": [
        {
          "output_type": "stream",
          "text": [
            "Current time is 6:5:35 GMT\n"
          ],
          "name": "stdout"
        }
      ]
    },
    {
      "metadata": {
        "id": "ZJNd6k8LFJSQ",
        "colab_type": "text"
      },
      "cell_type": "markdown",
      "source": [
        "2-8"
      ]
    },
    {
      "metadata": {
        "id": "RxmedX4uFJYz",
        "colab_type": "code",
        "colab": {
          "base_uri": "https://localhost:8080/",
          "height": 102
        },
        "outputId": "cdc4a7dd-3de9-4904-a8f2-8abe2b67fed6"
      },
      "cell_type": "code",
      "source": [
        "# Enter yearly interest rate\n",
        "annualInterestRate = eval(input(\n",
        "  \"Enter annual interest rate, e.g., 8.25: \"))\n",
        "monthlyInterestRate = annualInterestRate / 1200\n",
        "\n",
        "# Enter number of years\n",
        "numberOfYears = eval(input(\n",
        "  \"Enter number of years as an integer, e.g., 5: \"))\n",
        "    \n",
        "# Enter loan amount\n",
        "loanAmount = eval(input(\"Enter loan amount, e.g., 120000.95: \"))\n",
        "    \n",
        "# Calculate payment\n",
        "monthlyPayment = loanAmount * monthlyInterestRate / (1\n",
        "  - 1 / (1 + monthlyInterestRate) ** (numberOfYears * 12))\n",
        "totalPayment = monthlyPayment * numberOfYears * 12\n",
        "\n",
        "# Display results\n",
        "print(\"The monthly payment is\", int(monthlyPayment * 100) / 100)\n",
        "print(\"The total payment is\", int(totalPayment * 100) /100)\n"
      ],
      "execution_count": 19,
      "outputs": [
        {
          "output_type": "stream",
          "text": [
            "Enter annual interest rate, e.g., 8.25: 6000\n",
            "Enter number of years as an integer, e.g., 5: 5\n",
            "Enter loan amount, e.g., 120000.95: 10000\n",
            "The monthly payment is 50000.0\n",
            "The total payment is 3000000.0\n"
          ],
          "name": "stdout"
        }
      ]
    },
    {
      "metadata": {
        "id": "ypF6BLG_FobE",
        "colab_type": "text"
      },
      "cell_type": "markdown",
      "source": [
        "2-9"
      ]
    },
    {
      "metadata": {
        "id": "5zwghL1bFoiN",
        "colab_type": "code",
        "colab": {
          "base_uri": "https://localhost:8080/",
          "height": 68
        },
        "outputId": "d5e5d4e5-c2ed-4d62-d527-9afc19fdb409"
      },
      "cell_type": "code",
      "source": [
        "# Enter the first point with two double values\n",
        "x1, y1 = eval(input(\"Enter x1 and y1: \"))\n",
        "\n",
        "# Enter the second point with two double values\n",
        "x2, y2 = eval(input(\"Enter x2 and y2: \"))\n",
        " \n",
        "# Compute the distance\n",
        "distance = ((x1 - x2) * (x1 - x2) + (y1 - y2) * (y1 - y2)) ** 0.5\n",
        "    \n",
        "print(\"The distance between the two points is\", distance) \n"
      ],
      "execution_count": 21,
      "outputs": [
        {
          "output_type": "stream",
          "text": [
            "Enter x1 and y1: 10,10\n",
            "Enter x2 and y2: 10,10\n",
            "The distance between the two points is 0.0\n"
          ],
          "name": "stdout"
        }
      ]
    },
    {
      "metadata": {
        "id": "OGd9_ZwwF6wq",
        "colab_type": "text"
      },
      "cell_type": "markdown",
      "source": [
        "3-1"
      ]
    },
    {
      "metadata": {
        "id": "yMGpYuuVGHGm",
        "colab_type": "code",
        "colab": {
          "base_uri": "https://localhost:8080/",
          "height": 170
        },
        "outputId": "fe98e7db-671d-46dd-c125-92a81cececb9"
      },
      "cell_type": "code",
      "source": [
        "import math # import Math module to use the math functions\n",
        " \n",
        "# Test algebraic functions\n",
        "print(\"exp(1.0) =\", math.exp(1))\n",
        "print(\"log(3.78) =\", math.log(math.e))\n",
        "print(\"log10(10, 10) =\", math.log(10, 10))\n",
        "print(\"sqrt(4.0) =\", math.sqrt(4.0))\n",
        " \n",
        "# Test trigonometric functions\n",
        "print(\"sin(PI / 2) =\", math.sin(math.pi / 2))\n",
        "print(\"cos(PI / 2) =\", math.cos(math.pi / 2))\n",
        "print(\"tan(PI / 2) =\", math.tan(math.pi / 2))\n",
        "print(\"degrees(1.57) =\", math.degrees(1.57))\n",
        "print(\"radians(90) =\", math.radians(90))\n"
      ],
      "execution_count": 23,
      "outputs": [
        {
          "output_type": "stream",
          "text": [
            "exp(1.0) = 2.718281828459045\n",
            "log(3.78) = 1.0\n",
            "log10(10, 10) = 1.0\n",
            "sqrt(4.0) = 2.0\n",
            "sin(PI / 2) = 1.0\n",
            "cos(PI / 2) = 6.123233995736766e-17\n",
            "tan(PI / 2) = 1.633123935319537e+16\n",
            "degrees(1.57) = 89.95437383553924\n",
            "radians(90) = 1.5707963267948966\n"
          ],
          "name": "stdout"
        }
      ]
    },
    {
      "metadata": {
        "id": "9IW_XZq3GgGO",
        "colab_type": "text"
      },
      "cell_type": "markdown",
      "source": [
        "3-2"
      ]
    },
    {
      "metadata": {
        "id": "Vw34zyzaGq0q",
        "colab_type": "code",
        "colab": {
          "base_uri": "https://localhost:8080/",
          "height": 51
        },
        "outputId": "25300fa9-8fe1-447a-b508-b056a9d40cb9"
      },
      "cell_type": "code",
      "source": [
        "import math\n",
        "\n",
        "x1, y1, x2, y2, x3, y3 = eval(input(\"Enter six coordinates of three points \\\n",
        "separated by commas like x1, y1, x2, y2, x3, y3: \"))\n",
        " \n",
        "a = math.sqrt((x2 - x3) * (x2 - x3) + (y2 - y3) * (y2 - y3))\n",
        "b = math.sqrt((x1 - x3) * (x1 - x3) + (y1 - y3) * (y1 - y3))\n",
        "c = math.sqrt((x1 - x2) * (x1 - x2) + (y1 - y2) * (y1 - y2))\n",
        "\n",
        "A = math.degrees(math.acos((a * a - b * b - c * c) / (-2 * b * c)))\n",
        "B = math.degrees(math.acos((b * b - a * a - c * c) / (-2 * a * c)))\n",
        "C = math.degrees(math.acos((c * c - b * b - a * a) / (-2 * a * b)))\n",
        "\n",
        "print(\"The three angles are \", round(A * 100) / 100.0,  \n",
        "    round(B * 100) / 100.0, round(C * 100) / 100.0)\n",
        "\n",
        "\n"
      ],
      "execution_count": 25,
      "outputs": [
        {
          "output_type": "stream",
          "text": [
            "Enter six coordinates of three points separated by commas like x1, y1, x2, y2, x3, y3: 10,10,5,5,1,1\n",
            "The three angles are  0.0 180.0 0.0\n"
          ],
          "name": "stdout"
        }
      ]
    },
    {
      "metadata": {
        "id": "gjoaMWjdHDw7",
        "colab_type": "text"
      },
      "cell_type": "markdown",
      "source": [
        "3-3"
      ]
    },
    {
      "metadata": {
        "id": "idWGPSiMHD6L",
        "colab_type": "code",
        "colab": {
          "base_uri": "https://localhost:8080/",
          "height": 862
        },
        "outputId": "2c7ed13a-2392-47be-b960-0be5aa7c81c6"
      },
      "cell_type": "code",
      "source": [
        "import turtle\n",
        "\n",
        "turtle.write(\"\\u6B22\\u8FCE \\u03b1 \\u03b2 \\u03b3\")\n",
        "\n",
        "turtle.done() \n"
      ],
      "execution_count": 26,
      "outputs": [
        {
          "output_type": "error",
          "ename": "TclError",
          "evalue": "ignored",
          "traceback": [
            "\u001b[0;31m---------------------------------------------------------------------------\u001b[0m",
            "\u001b[0;31mTclError\u001b[0m                                  Traceback (most recent call last)",
            "\u001b[0;32m<ipython-input-26-a71ebe6522e5>\u001b[0m in \u001b[0;36m<module>\u001b[0;34m()\u001b[0m\n\u001b[1;32m      1\u001b[0m \u001b[0;32mimport\u001b[0m \u001b[0mturtle\u001b[0m\u001b[0;34m\u001b[0m\u001b[0;34m\u001b[0m\u001b[0m\n\u001b[1;32m      2\u001b[0m \u001b[0;34m\u001b[0m\u001b[0m\n\u001b[0;32m----> 3\u001b[0;31m \u001b[0mturtle\u001b[0m\u001b[0;34m.\u001b[0m\u001b[0mwrite\u001b[0m\u001b[0;34m(\u001b[0m\u001b[0;34m\"\\u6B22\\u8FCE \\u03b1 \\u03b2 \\u03b3\"\u001b[0m\u001b[0;34m)\u001b[0m\u001b[0;34m\u001b[0m\u001b[0;34m\u001b[0m\u001b[0m\n\u001b[0m\u001b[1;32m      4\u001b[0m \u001b[0;34m\u001b[0m\u001b[0m\n\u001b[1;32m      5\u001b[0m \u001b[0mturtle\u001b[0m\u001b[0;34m.\u001b[0m\u001b[0mdone\u001b[0m\u001b[0;34m(\u001b[0m\u001b[0;34m)\u001b[0m\u001b[0;34m\u001b[0m\u001b[0;34m\u001b[0m\u001b[0m\n",
            "\u001b[0;32m/usr/lib/python3.6/turtle.py\u001b[0m in \u001b[0;36mwrite\u001b[0;34m(arg, move, align, font)\u001b[0m\n",
            "\u001b[0;32m/usr/lib/python3.6/turtle.py\u001b[0m in \u001b[0;36m__init__\u001b[0;34m(self, shape, undobuffersize, visible)\u001b[0m\n\u001b[1;32m   3810\u001b[0m                  visible=_CFG[\"visible\"]):\n\u001b[1;32m   3811\u001b[0m         \u001b[0;32mif\u001b[0m \u001b[0mTurtle\u001b[0m\u001b[0;34m.\u001b[0m\u001b[0m_screen\u001b[0m \u001b[0;32mis\u001b[0m \u001b[0;32mNone\u001b[0m\u001b[0;34m:\u001b[0m\u001b[0;34m\u001b[0m\u001b[0;34m\u001b[0m\u001b[0m\n\u001b[0;32m-> 3812\u001b[0;31m             \u001b[0mTurtle\u001b[0m\u001b[0;34m.\u001b[0m\u001b[0m_screen\u001b[0m \u001b[0;34m=\u001b[0m \u001b[0mScreen\u001b[0m\u001b[0;34m(\u001b[0m\u001b[0;34m)\u001b[0m\u001b[0;34m\u001b[0m\u001b[0;34m\u001b[0m\u001b[0m\n\u001b[0m\u001b[1;32m   3813\u001b[0m         RawTurtle.__init__(self, Turtle._screen,\n\u001b[1;32m   3814\u001b[0m                            \u001b[0mshape\u001b[0m\u001b[0;34m=\u001b[0m\u001b[0mshape\u001b[0m\u001b[0;34m,\u001b[0m\u001b[0;34m\u001b[0m\u001b[0;34m\u001b[0m\u001b[0m\n",
            "\u001b[0;32m/usr/lib/python3.6/turtle.py\u001b[0m in \u001b[0;36mScreen\u001b[0;34m()\u001b[0m\n\u001b[1;32m   3660\u001b[0m     else return the existing one.\"\"\"\n\u001b[1;32m   3661\u001b[0m     \u001b[0;32mif\u001b[0m \u001b[0mTurtle\u001b[0m\u001b[0;34m.\u001b[0m\u001b[0m_screen\u001b[0m \u001b[0;32mis\u001b[0m \u001b[0;32mNone\u001b[0m\u001b[0;34m:\u001b[0m\u001b[0;34m\u001b[0m\u001b[0;34m\u001b[0m\u001b[0m\n\u001b[0;32m-> 3662\u001b[0;31m         \u001b[0mTurtle\u001b[0m\u001b[0;34m.\u001b[0m\u001b[0m_screen\u001b[0m \u001b[0;34m=\u001b[0m \u001b[0m_Screen\u001b[0m\u001b[0;34m(\u001b[0m\u001b[0;34m)\u001b[0m\u001b[0;34m\u001b[0m\u001b[0;34m\u001b[0m\u001b[0m\n\u001b[0m\u001b[1;32m   3663\u001b[0m     \u001b[0;32mreturn\u001b[0m \u001b[0mTurtle\u001b[0m\u001b[0;34m.\u001b[0m\u001b[0m_screen\u001b[0m\u001b[0;34m\u001b[0m\u001b[0;34m\u001b[0m\u001b[0m\n\u001b[1;32m   3664\u001b[0m \u001b[0;34m\u001b[0m\u001b[0m\n",
            "\u001b[0;32m/usr/lib/python3.6/turtle.py\u001b[0m in \u001b[0;36m__init__\u001b[0;34m(self)\u001b[0m\n\u001b[1;32m   3676\u001b[0m         \u001b[0;31m# preserved (perhaps by passing it as an optional parameter)\u001b[0m\u001b[0;34m\u001b[0m\u001b[0;34m\u001b[0m\u001b[0;34m\u001b[0m\u001b[0m\n\u001b[1;32m   3677\u001b[0m         \u001b[0;32mif\u001b[0m \u001b[0m_Screen\u001b[0m\u001b[0;34m.\u001b[0m\u001b[0m_root\u001b[0m \u001b[0;32mis\u001b[0m \u001b[0;32mNone\u001b[0m\u001b[0;34m:\u001b[0m\u001b[0;34m\u001b[0m\u001b[0;34m\u001b[0m\u001b[0m\n\u001b[0;32m-> 3678\u001b[0;31m             \u001b[0m_Screen\u001b[0m\u001b[0;34m.\u001b[0m\u001b[0m_root\u001b[0m \u001b[0;34m=\u001b[0m \u001b[0mself\u001b[0m\u001b[0;34m.\u001b[0m\u001b[0m_root\u001b[0m \u001b[0;34m=\u001b[0m \u001b[0m_Root\u001b[0m\u001b[0;34m(\u001b[0m\u001b[0;34m)\u001b[0m\u001b[0;34m\u001b[0m\u001b[0;34m\u001b[0m\u001b[0m\n\u001b[0m\u001b[1;32m   3679\u001b[0m             \u001b[0mself\u001b[0m\u001b[0;34m.\u001b[0m\u001b[0m_root\u001b[0m\u001b[0;34m.\u001b[0m\u001b[0mtitle\u001b[0m\u001b[0;34m(\u001b[0m\u001b[0m_Screen\u001b[0m\u001b[0;34m.\u001b[0m\u001b[0m_title\u001b[0m\u001b[0;34m)\u001b[0m\u001b[0;34m\u001b[0m\u001b[0;34m\u001b[0m\u001b[0m\n\u001b[1;32m   3680\u001b[0m             \u001b[0mself\u001b[0m\u001b[0;34m.\u001b[0m\u001b[0m_root\u001b[0m\u001b[0;34m.\u001b[0m\u001b[0mondestroy\u001b[0m\u001b[0;34m(\u001b[0m\u001b[0mself\u001b[0m\u001b[0;34m.\u001b[0m\u001b[0m_destroy\u001b[0m\u001b[0;34m)\u001b[0m\u001b[0;34m\u001b[0m\u001b[0;34m\u001b[0m\u001b[0m\n",
            "\u001b[0;32m/usr/lib/python3.6/turtle.py\u001b[0m in \u001b[0;36m__init__\u001b[0;34m(self)\u001b[0m\n\u001b[1;32m    432\u001b[0m     \u001b[0;34m\"\"\"Root class for Screen based on Tkinter.\"\"\"\u001b[0m\u001b[0;34m\u001b[0m\u001b[0;34m\u001b[0m\u001b[0m\n\u001b[1;32m    433\u001b[0m     \u001b[0;32mdef\u001b[0m \u001b[0m__init__\u001b[0m\u001b[0;34m(\u001b[0m\u001b[0mself\u001b[0m\u001b[0;34m)\u001b[0m\u001b[0;34m:\u001b[0m\u001b[0;34m\u001b[0m\u001b[0;34m\u001b[0m\u001b[0m\n\u001b[0;32m--> 434\u001b[0;31m         \u001b[0mTK\u001b[0m\u001b[0;34m.\u001b[0m\u001b[0mTk\u001b[0m\u001b[0;34m.\u001b[0m\u001b[0m__init__\u001b[0m\u001b[0;34m(\u001b[0m\u001b[0mself\u001b[0m\u001b[0;34m)\u001b[0m\u001b[0;34m\u001b[0m\u001b[0;34m\u001b[0m\u001b[0m\n\u001b[0m\u001b[1;32m    435\u001b[0m \u001b[0;34m\u001b[0m\u001b[0m\n\u001b[1;32m    436\u001b[0m     \u001b[0;32mdef\u001b[0m \u001b[0msetupcanvas\u001b[0m\u001b[0;34m(\u001b[0m\u001b[0mself\u001b[0m\u001b[0;34m,\u001b[0m \u001b[0mwidth\u001b[0m\u001b[0;34m,\u001b[0m \u001b[0mheight\u001b[0m\u001b[0;34m,\u001b[0m \u001b[0mcwidth\u001b[0m\u001b[0;34m,\u001b[0m \u001b[0mcheight\u001b[0m\u001b[0;34m)\u001b[0m\u001b[0;34m:\u001b[0m\u001b[0;34m\u001b[0m\u001b[0;34m\u001b[0m\u001b[0m\n",
            "\u001b[0;32m/usr/lib/python3.6/tkinter/__init__.py\u001b[0m in \u001b[0;36m__init__\u001b[0;34m(self, screenName, baseName, className, useTk, sync, use)\u001b[0m\n\u001b[1;32m   2021\u001b[0m                 \u001b[0mbaseName\u001b[0m \u001b[0;34m=\u001b[0m \u001b[0mbaseName\u001b[0m \u001b[0;34m+\u001b[0m \u001b[0mext\u001b[0m\u001b[0;34m\u001b[0m\u001b[0;34m\u001b[0m\u001b[0m\n\u001b[1;32m   2022\u001b[0m         \u001b[0minteractive\u001b[0m \u001b[0;34m=\u001b[0m \u001b[0;36m0\u001b[0m\u001b[0;34m\u001b[0m\u001b[0;34m\u001b[0m\u001b[0m\n\u001b[0;32m-> 2023\u001b[0;31m         \u001b[0mself\u001b[0m\u001b[0;34m.\u001b[0m\u001b[0mtk\u001b[0m \u001b[0;34m=\u001b[0m \u001b[0m_tkinter\u001b[0m\u001b[0;34m.\u001b[0m\u001b[0mcreate\u001b[0m\u001b[0;34m(\u001b[0m\u001b[0mscreenName\u001b[0m\u001b[0;34m,\u001b[0m \u001b[0mbaseName\u001b[0m\u001b[0;34m,\u001b[0m \u001b[0mclassName\u001b[0m\u001b[0;34m,\u001b[0m \u001b[0minteractive\u001b[0m\u001b[0;34m,\u001b[0m \u001b[0mwantobjects\u001b[0m\u001b[0;34m,\u001b[0m \u001b[0museTk\u001b[0m\u001b[0;34m,\u001b[0m \u001b[0msync\u001b[0m\u001b[0;34m,\u001b[0m \u001b[0muse\u001b[0m\u001b[0;34m)\u001b[0m\u001b[0;34m\u001b[0m\u001b[0;34m\u001b[0m\u001b[0m\n\u001b[0m\u001b[1;32m   2024\u001b[0m         \u001b[0;32mif\u001b[0m \u001b[0museTk\u001b[0m\u001b[0;34m:\u001b[0m\u001b[0;34m\u001b[0m\u001b[0;34m\u001b[0m\u001b[0m\n\u001b[1;32m   2025\u001b[0m             \u001b[0mself\u001b[0m\u001b[0;34m.\u001b[0m\u001b[0m_loadtk\u001b[0m\u001b[0;34m(\u001b[0m\u001b[0;34m)\u001b[0m\u001b[0;34m\u001b[0m\u001b[0;34m\u001b[0m\u001b[0m\n",
            "\u001b[0;31mTclError\u001b[0m: no display name and no $DISPLAY environment variable"
          ]
        }
      ]
    },
    {
      "metadata": {
        "id": "rRaDELGyHRso",
        "colab_type": "text"
      },
      "cell_type": "markdown",
      "source": [
        "3-4"
      ]
    },
    {
      "metadata": {
        "id": "wYu13AtWHR06",
        "colab_type": "code",
        "colab": {
          "base_uri": "https://localhost:8080/",
          "height": 136
        },
        "outputId": "1a9a3e83-8387-4159-b345-a7e01cc9593f"
      },
      "cell_type": "code",
      "source": [
        "# Receive the amount \n",
        "amount = eval(input(\"Enter an amount in double, e.g., 11.56: \"))\n",
        "\n",
        "# Convert the amount to cents\n",
        "remainingAmount = int(amount * 100)\n",
        "\n",
        "# Find the number of one dollars\n",
        "numberOfOneDollars = int(remainingAmount / 100)\n",
        "remainingAmount = int(remainingAmount % 100)\n",
        "\n",
        "# Find the number of quarters in the remaining amount\n",
        "numberOfQuarters = int(remainingAmount / 25)\n",
        "remainingAmount = remainingAmount % 25\n",
        "\n",
        "# Find the number of dimes in the remaining amount\n",
        "numberOfDimes = int(remainingAmount / 10)\n",
        "remainingAmount = remainingAmount % 10\n",
        "\n",
        "# Find the number of nickels in the remaining amount\n",
        "numberOfNickels = int(remainingAmount / 5)\n",
        "remainingAmount = remainingAmount % 5\n",
        "\n",
        "# Find the number of pennies in the remaining amount\n",
        "numberOfPennies = remainingAmount\n",
        "\n",
        "# Display results\n",
        "print(\"Your amount\", amount, \"consists of\\n\", \n",
        "    \"\\t\", numberOfOneDollars, \"dollars\\n\", \n",
        "    \"\\t\", numberOfQuarters, \"quarters\\n\",\n",
        "    \"\\t\", numberOfDimes,  \"dimes\\n\",\n",
        "    \"\\t\", numberOfNickels, \"nickels\\n\",\n",
        "    \"\\t\", numberOfPennies, \"pennies\")\n"
      ],
      "execution_count": 29,
      "outputs": [
        {
          "output_type": "stream",
          "text": [
            "Enter an amount in double, e.g., 11.56: 11.56\n",
            "Your amount 11.56 consists of\n",
            " \t 11 dollars\n",
            " \t 2 quarters\n",
            " \t 0 dimes\n",
            " \t 1 nickels\n",
            " \t 1 pennies\n"
          ],
          "name": "stdout"
        }
      ]
    },
    {
      "metadata": {
        "id": "OzayEa93HoDA",
        "colab_type": "text"
      },
      "cell_type": "markdown",
      "source": [
        "4-1"
      ]
    },
    {
      "metadata": {
        "id": "icduCeJZHoKp",
        "colab_type": "code",
        "colab": {
          "base_uri": "https://localhost:8080/",
          "height": 51
        },
        "outputId": "dce96c7e-d147-4e19-c7bf-9aebccb045bf"
      },
      "cell_type": "code",
      "source": [
        "import random \n",
        "\n",
        "# Generate random numbers\n",
        "number1 = random.randint(0, 9)\n",
        "number2 = random.randint(0, 9)\n",
        "\n",
        "# Prompt the user to enter an answer\n",
        "answer = eval(input(\"What is \" + str(number1) + \" + \" \n",
        "    + str(number2) + \"? \"))\n",
        "    \n",
        "# Display result    \n",
        "print(number1, \"+\", number2, \"=\", answer, \n",
        "    \"is\", number1 + number2 == answer)"
      ],
      "execution_count": 32,
      "outputs": [
        {
          "output_type": "stream",
          "text": [
            "What is 0 + 3? 3\n",
            "0 + 3 = 3 is True\n"
          ],
          "name": "stdout"
        }
      ]
    },
    {
      "metadata": {
        "id": "J7vlsc5bIISU",
        "colab_type": "text"
      },
      "cell_type": "markdown",
      "source": [
        "4-2"
      ]
    },
    {
      "metadata": {
        "id": "yEDsivViIIaz",
        "colab_type": "code",
        "colab": {
          "base_uri": "https://localhost:8080/",
          "height": 68
        },
        "outputId": "ff78489e-9de5-4b13-a8ba-e27680bd16a5"
      },
      "cell_type": "code",
      "source": [
        "number = eval(input(\"Enter an integer: \"))\n",
        "\n",
        "if number % 5 == 0 :\n",
        "   print(\"HiFive\");\n",
        "\n",
        "if number % 2 == 0 :\n",
        "   print(\"HiEven\");"
      ],
      "execution_count": 34,
      "outputs": [
        {
          "output_type": "stream",
          "text": [
            "Enter an integer: 10\n",
            "HiFive\n",
            "HiEven\n"
          ],
          "name": "stdout"
        }
      ]
    },
    {
      "metadata": {
        "id": "AF0N-TaQIXZg",
        "colab_type": "text"
      },
      "cell_type": "markdown",
      "source": [
        "4-3"
      ]
    },
    {
      "metadata": {
        "id": "sNWKee0wIXjB",
        "colab_type": "code",
        "colab": {
          "base_uri": "https://localhost:8080/",
          "height": 709
        },
        "outputId": "364707a4-342e-44e5-f6ce-a128d32e3c76"
      },
      "cell_type": "code",
      "source": [
        "ay = 0 # birth day to be determined\n",
        "  \n",
        "# Prompt the user to answer the first question\n",
        "question1 = \"Is your birthday in Set1?\\n\" + \\\n",
        "    \" 1  3  5  7\\n\" + \\\n",
        "    \" 9 11 13 15\\n\" + \\\n",
        "    \"17 19 21 23\\n\" + \\\n",
        "    \"25 27 29 31\" + \\\n",
        "    \"\\nEnter 0 for No and 1 for Yes: \" \n",
        "answer = eval(input(question1))\n",
        "  \n",
        "if answer == 1:\n",
        "   day += 1\n",
        " \n",
        "# Prompt the user to answer the second question\n",
        "question2 = \"Is your birthday in Set2?\\n\" + \\\n",
        "    \" 2  3  6  7\\n\" + \\\n",
        "    \"10 11 14 15\\n\" + \\\n",
        "    \"18 19 22 23\\n\" + \\\n",
        "    \"26 27 30 31\" + \\\n",
        "    \"\\nEnter 0 for No and 1 for Yes: \" \n",
        "answer = eval(input(question2))\n",
        "  \n",
        "if answer == 1:\n",
        "   day += 2\n",
        " \n",
        "# Prompt the user to answer the third question\n",
        "question3 = \"Is your birthday in Set3?\\n\" + \\\n",
        "    \" 4  5  6  7\\n\" + \\\n",
        "    \"12 13 14 15\\n\" + \\\n",
        "    \"20 21 22 23\\n\" + \\\n",
        "    \"28 29 30 31\" + \\\n",
        "    \"\\nEnter 0 for No and 1 for Yes: \" \n",
        "answer = eval(input(question3))\n",
        "  \n",
        "if answer == 1:\n",
        "   day += 4\n",
        "  \n",
        "# Prompt the user to answer the fourth question\n",
        "question4 = \"Is your birthday in Set4?\\n\" + \\\n",
        "    \" 8  9 10 11\\n\" + \\\n",
        "    \"12 13 14 15\\n\" + \\\n",
        "    \"24 25 26 27\\n\" + \\\n",
        "    \"28 29 30 31\" + \\\n",
        "    \"\\nEnter 0 for No and 1 for Yes: \" \n",
        "answer = eval(input(question4))\n",
        "  \n",
        "if answer == 1:\n",
        "    day += 8\n",
        "  \n",
        "# Prompt the user to answer the fifth question\n",
        "question5 = \"Is your birthday in Set5?\\n\" + \\\n",
        "    \"16 17 18 19\\n\" + \\\n",
        "    \"20 21 22 23\\n\" + \\\n",
        "    \"24 25 26 27\\n\" + \\\n",
        "    \"28 29 30 31\" + \\\n",
        "    \"\\nEnter 0 for No and 1 for Yes: \" \n",
        "answer = eval(input(question5))\n",
        "  \n",
        "if answer == 1:\n",
        "    day += 16\n",
        "\n",
        "print(\"\\nYour birthday is\" + str(day) + \"!\")"
      ],
      "execution_count": 35,
      "outputs": [
        {
          "output_type": "stream",
          "text": [
            "Is your birthday in Set1?\n",
            " 1  3  5  7\n",
            " 9 11 13 15\n",
            "17 19 21 23\n",
            "25 27 29 31\n",
            "Enter 0 for No and 1 for Yes: 19\n",
            "Is your birthday in Set2?\n",
            " 2  3  6  7\n",
            "10 11 14 15\n",
            "18 19 22 23\n",
            "26 27 30 31\n",
            "Enter 0 for No and 1 for Yes: 2\n",
            "Is your birthday in Set3?\n",
            " 4  5  6  7\n",
            "12 13 14 15\n",
            "20 21 22 23\n",
            "28 29 30 31\n",
            "Enter 0 for No and 1 for Yes: 13\n",
            "Is your birthday in Set4?\n",
            " 8  9 10 11\n",
            "12 13 14 15\n",
            "24 25 26 27\n",
            "28 29 30 31\n",
            "Enter 0 for No and 1 for Yes: 28\n",
            "Is your birthday in Set5?\n",
            "16 17 18 19\n",
            "20 21 22 23\n",
            "24 25 26 27\n",
            "28 29 30 31\n",
            "Enter 0 for No and 1 for Yes: 18\n"
          ],
          "name": "stdout"
        },
        {
          "output_type": "error",
          "ename": "NameError",
          "evalue": "ignored",
          "traceback": [
            "\u001b[0;31m---------------------------------------------------------------------------\u001b[0m",
            "\u001b[0;31mNameError\u001b[0m                                 Traceback (most recent call last)",
            "\u001b[0;32m<ipython-input-35-bfe0b1dc9e97>\u001b[0m in \u001b[0;36m<module>\u001b[0;34m()\u001b[0m\n\u001b[1;32m     36\u001b[0m     \u001b[0mday\u001b[0m \u001b[0;34m+=\u001b[0m \u001b[0;36m16\u001b[0m\u001b[0;34m\u001b[0m\u001b[0;34m\u001b[0m\u001b[0m\n\u001b[1;32m     37\u001b[0m \u001b[0;34m\u001b[0m\u001b[0m\n\u001b[0;32m---> 38\u001b[0;31m \u001b[0mprint\u001b[0m\u001b[0;34m(\u001b[0m\u001b[0;34m\"\\nYour birthday is\"\u001b[0m \u001b[0;34m+\u001b[0m \u001b[0mstr\u001b[0m\u001b[0;34m(\u001b[0m\u001b[0mday\u001b[0m\u001b[0;34m)\u001b[0m \u001b[0;34m+\u001b[0m \u001b[0;34m\"!\"\u001b[0m\u001b[0;34m)\u001b[0m\u001b[0;34m\u001b[0m\u001b[0;34m\u001b[0m\u001b[0m\n\u001b[0m",
            "\u001b[0;31mNameError\u001b[0m: name 'day' is not defined"
          ]
        }
      ]
    },
    {
      "metadata": {
        "id": "kwgNhc9HL4Vr",
        "colab_type": "text"
      },
      "cell_type": "markdown",
      "source": [
        "4-4"
      ]
    },
    {
      "metadata": {
        "id": "7P0iKQnYL4dB",
        "colab_type": "code",
        "colab": {
          "base_uri": "https://localhost:8080/",
          "height": 68
        },
        "outputId": "2c2cfe35-d922-4e32-9369-4bdf19184ba9"
      },
      "cell_type": "code",
      "source": [
        "import random\n",
        "\n",
        "# 1. Generate two random single-digit integers\n",
        "number1 = random.randint(0, 9)\n",
        "number2 = random.randint(0, 9)\n",
        "\n",
        "# 2. If number1 < number2, swap number1 with number2\n",
        "if number1 < number2:\n",
        "    number1, number2 = number2, number1 # Simultaneous assignment\n",
        "\n",
        "# 4. Prompt the student to answer \"what is number1 - number2?\"\n",
        "answer = eval(input(\"What is \" + str(number1) + \" - \" + \n",
        "    str(number2) + \"? \"))\n",
        "\n",
        "# 4. Grade the answer and display the result\n",
        "if number1 - number2 == answer:\n",
        "    print(\"You are correct!\")\n",
        "else:\n",
        "    print(\"Your answer is wrong.\\n\", number1, \"-\",\n",
        "        number2, \"is\", number1 - number2)"
      ],
      "execution_count": 36,
      "outputs": [
        {
          "output_type": "stream",
          "text": [
            "What is 3 - 2? 10\n",
            "Your answer is wrong.\n",
            " 3 - 2 is 1\n"
          ],
          "name": "stdout"
        }
      ]
    },
    {
      "metadata": {
        "id": "s2Kh2O9JMFFt",
        "colab_type": "text"
      },
      "cell_type": "markdown",
      "source": [
        "4-5"
      ]
    },
    {
      "metadata": {
        "id": "OB7eFWV1MFNd",
        "colab_type": "code",
        "colab": {
          "base_uri": "https://localhost:8080/",
          "height": 51
        },
        "outputId": "54cea9b2-c318-4171-ca62-cff486ea1ac0"
      },
      "cell_type": "code",
      "source": [
        "year = eval(input(\"Enter a year: \"))\n",
        "zodiacYear = year % 12 \n",
        "if zodiacYear == 0:\n",
        "    print(\"monkey\")\n",
        "elif zodiacYear == 1:\n",
        "    print(\"rooster\")\n",
        "elif zodiacYear == 2:\n",
        "    print(\"dog\")\n",
        "elif zodiacYear == 3:\n",
        "    print(\"pig\")\n",
        "elif zodiacYear == 4: \n",
        "    print(\"rat\")\n",
        "elif zodiacYear == 5: \n",
        "    print(\"ox\")\n",
        "elif zodiacYear == 6:\n",
        "    print(\"tiger\")\n",
        "elif zodiacYear == 7:\n",
        "    print(\"rabbit\")\n",
        "elif zodiacYear == 8:\n",
        "    print(\"dragon\")\n",
        "elif zodiacYear == 9:\n",
        "    print(\"snake\")\n",
        "elif zodiacYear == 10:\n",
        "    print(\"horse\")\n",
        "else: \n",
        "    print(\"sheep\")\n"
      ],
      "execution_count": 37,
      "outputs": [
        {
          "output_type": "stream",
          "text": [
            "Enter a year: 2000\n",
            "dragon\n"
          ],
          "name": "stdout"
        }
      ]
    },
    {
      "metadata": {
        "id": "WFHJ2i3GMS3T",
        "colab_type": "text"
      },
      "cell_type": "markdown",
      "source": [
        "4-6"
      ]
    },
    {
      "metadata": {
        "id": "rjhexhD-MS-i",
        "colab_type": "code",
        "colab": {
          "base_uri": "https://localhost:8080/",
          "height": 85
        },
        "outputId": "41a89283-2e37-4e45-b5e4-5d91dc01b11a"
      },
      "cell_type": "code",
      "source": [
        "# Prompt the user to enter weight in pounds\n",
        "weight = eval(input(\"Enter weight in pounds: \"))\n",
        "    \n",
        "# Prompt the user to enter height in inches\n",
        "height = eval(input(\"Enter height in inches: \"))\n",
        "    \n",
        "KILOGRAMS_PER_POUND = 0.45359237 # Constant\n",
        "METERS_PER_INCH = 0.0254 # Constant \n",
        "    \n",
        "# Compute BMI\n",
        "weightInKilograms = weight * KILOGRAMS_PER_POUND \n",
        "heightInMeters = height * METERS_PER_INCH\n",
        "bmi = weightInKilograms / (heightInMeters * heightInMeters)\n",
        "\n",
        "# Display result\n",
        "print(\"BMI is\", format(bmi, \".2f\"))\n",
        "if bmi < 18.5:\n",
        "    print(\"Underweight\")\n",
        "elif bmi < 25:\n",
        "    print(\"Normal\")\n",
        "elif bmi < 30:\n",
        "    print(\"Overweight\")\n",
        "else:\n",
        "    print(\"Obese\")"
      ],
      "execution_count": 39,
      "outputs": [
        {
          "output_type": "stream",
          "text": [
            "Enter weight in pounds: 53\n",
            "Enter height in inches: 173\n",
            "BMI is 1.25\n",
            "Underweight\n"
          ],
          "name": "stdout"
        }
      ]
    },
    {
      "metadata": {
        "id": "Xi-z5t_AMkqv",
        "colab_type": "text"
      },
      "cell_type": "markdown",
      "source": [
        "4-7"
      ]
    },
    {
      "metadata": {
        "id": "SnS6XN4SMkzS",
        "colab_type": "code",
        "colab": {
          "base_uri": "https://localhost:8080/",
          "height": 119
        },
        "outputId": "3550adfe-69d9-45e1-8e88-351e22f6cf23"
      },
      "cell_type": "code",
      "source": [
        "import sys\n",
        "\n",
        "# Prompt the user to enter filing status\n",
        "status = eval(input(\n",
        "    \"(0-single filer, 1-married jointly,\\n\" +\n",
        "    \"2-married separately, 3-head of household)\\n\" +\n",
        "    \"Enter the filing status: \"))\n",
        "\n",
        "# Prompt the user to enter taxable income\n",
        "income = eval(input(\"Enter the taxable income: \"))\n",
        "\n",
        "# Compute tax\n",
        "tax = 0\n",
        "\n",
        "if status == 0:  # Compute tax for single filers\n",
        "    if income <= 8350:\n",
        "        tax = income * 0.10\n",
        "    elif income <= 33950:\n",
        "        tax = 8350 * 0.10 + (income - 8350) * 0.15\n",
        "    elif income <= 82250:\n",
        "        tax = 8350 * 0.10 + (33950 - 8350) * 0.15 + \\\n",
        "            (income - 33950) * 0.25\n",
        "    elif income <= 171550:\n",
        "        tax = 8350 * 0.10 + (33950 - 8350) * 0.15 + \\\n",
        "            (82250 - 33950) * 0.25 + (income - 82250) * 0.28\n",
        "    elif income <= 372950:\n",
        "        tax = 8350 * 0.10 + (33950 - 8350) * 0.15 + \\\n",
        "            (82250 - 33950) * 0.25 + (171550 - 82250) * 0.28 + \\\n",
        "            (income - 171550) * 0.33\n",
        "    else:\n",
        "        tax = 8350 * 0.10 + (33950 - 8350) * 0.15 + \\\n",
        "              (82250 - 33950) * 0.25 + (171550 - 82250) * 0.28 + \\\n",
        "              (372950 - 171550) * 0.33 + (income - 372950) * 0.35;\n",
        "elif status == 1: # Compute tax for married file jointly\n",
        "    print(\"Left as exercise\")\n",
        "elif status == 2: # Compute tax for married separately\n",
        "    print(\"Left as exercise\")\n",
        "elif status == 3: # Compute tax for head of household\n",
        "    print(\"Left as exercise\")\n",
        "else:\n",
        "    print(\"Error: invalid status\")\n",
        "    sys.exit()\n",
        "\n",
        "# Display the result\n",
        "print(\"Tax is\", format(tax, \".2f\"))\n"
      ],
      "execution_count": 40,
      "outputs": [
        {
          "output_type": "stream",
          "text": [
            "(0-single filer, 1-married jointly,\n",
            "2-married separately, 3-head of household)\n",
            "Enter the filing status: 2\n",
            "Enter the taxable income: 22\n",
            "Left as exercise\n",
            "Tax is 0.00\n"
          ],
          "name": "stdout"
        }
      ]
    },
    {
      "metadata": {
        "id": "UBsH4pQ0Mz1m",
        "colab_type": "text"
      },
      "cell_type": "markdown",
      "source": [
        "4-8"
      ]
    },
    {
      "metadata": {
        "id": "umTUQaZ3Mz8V",
        "colab_type": "code",
        "colab": {
          "base_uri": "https://localhost:8080/",
          "height": 68
        },
        "outputId": "862b91bc-da93-4b63-fa98-7164618e4a74"
      },
      "cell_type": "code",
      "source": [
        "# Receive an input\n",
        "number = eval(input(\"Enter an integer: \"))\n",
        "\n",
        "if number % 2 == 0 and number % 3 == 0:\n",
        "    print(number, \"is divisible by 2 and 3\")\n",
        "\n",
        "if number % 2 == 0 or number % 3 == 0:\n",
        "    print(number, \"is divisible by 2 or 3\")\n",
        "\n",
        "if (number % 2 == 0 or number % 3 == 0) and \\\n",
        "       not (number % 2 == 0 and number % 3 == 0):\n",
        "    print(number, \"divisible by 2 or 3, but not both\")\n"
      ],
      "execution_count": 41,
      "outputs": [
        {
          "output_type": "stream",
          "text": [
            "Enter an integer: 9\n",
            "9 is divisible by 2 or 3\n",
            "9 divisible by 2 or 3, but not both\n"
          ],
          "name": "stdout"
        }
      ]
    },
    {
      "metadata": {
        "id": "btHhSLcLNDvr",
        "colab_type": "text"
      },
      "cell_type": "markdown",
      "source": [
        "4-9"
      ]
    },
    {
      "metadata": {
        "id": "urcR5j6XND2t",
        "colab_type": "code",
        "colab": {
          "base_uri": "https://localhost:8080/",
          "height": 51
        },
        "outputId": "e570a4d6-6bd5-4b20-c529-5342b2c118f3"
      },
      "cell_type": "code",
      "source": [
        "year = eval(input(\"Enter a year: \"))\n",
        "\n",
        "# Check if the year is a leap year \n",
        "isLeapYear = (year % 4 == 0 and year % 100 != 0) or \\\n",
        "   (year % 400 == 0)\n",
        "\n",
        "# Display the result \n",
        "print(year, \"is a leap year?\", isLeapYear)\n"
      ],
      "execution_count": 42,
      "outputs": [
        {
          "output_type": "stream",
          "text": [
            "Enter a year: 400\n",
            "400 is a leap year? True\n"
          ],
          "name": "stdout"
        }
      ]
    },
    {
      "metadata": {
        "id": "DdL6-9_eNSLp",
        "colab_type": "text"
      },
      "cell_type": "markdown",
      "source": [
        "4-10"
      ]
    },
    {
      "metadata": {
        "id": "kYf1xyPqNThb",
        "colab_type": "code",
        "colab": {
          "base_uri": "https://localhost:8080/",
          "height": 68
        },
        "outputId": "f0592b8b-ac0b-48f2-f2fc-6e2f5e294fe1"
      },
      "cell_type": "code",
      "source": [
        "import random\n",
        "\n",
        "# Generate a lottery\n",
        "lottery = random.randint(0, 99)\n",
        "\n",
        "# Prompt the user to enter a guess\n",
        "guess = eval(input(\"Enter your lottery pick (two digits): \"))\n",
        "\n",
        "# Get digits from lottery\n",
        "lotteryDigit1 = lottery // 10\n",
        "lotteryDigit2 = lottery % 10\n",
        "\n",
        "# Get digits from guess\n",
        "guessDigit1 = guess // 10\n",
        "guessDigit2 = guess % 10\n",
        "\n",
        "print(\"The lottery number is\", lottery)\n",
        "\n",
        "# Check the guess\n",
        "if guess == lottery:\n",
        "    print(\"Exact match: you win $10,000\")\n",
        "elif (guessDigit2 == lotteryDigit1 and \\\n",
        "  guessDigit1 == lotteryDigit2):\n",
        "    print(\"Match all digits: you win $3,000\")\n",
        "elif (guessDigit1 == lotteryDigit1 \n",
        "        or guessDigit1 == lotteryDigit2 \n",
        "        or guessDigit2 == lotteryDigit1 \n",
        "        or guessDigit2 == lotteryDigit2):\n",
        "    print(\"Match one digit: you win $1,000\")\n",
        "else:\n",
        "    print(\"Sorry, no match\")\n"
      ],
      "execution_count": 43,
      "outputs": [
        {
          "output_type": "stream",
          "text": [
            "Enter your lottery pick (two digits): 100\n",
            "The lottery number is 96\n",
            "Sorry, no match\n"
          ],
          "name": "stdout"
        }
      ]
    },
    {
      "metadata": {
        "id": "rXQulQ8kNuRG",
        "colab_type": "text"
      },
      "cell_type": "markdown",
      "source": [
        "5-1"
      ]
    },
    {
      "metadata": {
        "id": "-DSygG6JNvPl",
        "colab_type": "code",
        "colab": {
          "base_uri": "https://localhost:8080/",
          "height": 51
        },
        "outputId": "2dda45cb-a2ee-47e3-aa4d-19fd66d9d93e"
      },
      "cell_type": "code",
      "source": [
        "import random\n",
        "\n",
        "# 1. Generate two random single-digit integers\n",
        "number1 = random.randint(0, 9)\n",
        "number2 = random.randint(0, 9)\n",
        "\n",
        "# 2. If number1 < number2, swap number1 with number2\n",
        "if number1 < number2:\n",
        "    number1, number2 = number2, number1\n",
        "\n",
        "# 3. Prompt the student to answer What is number1 - number2?\n",
        "answer = eval(input(\"What is \" + str(number1) + \" - \" \n",
        "    + str(number2) + \"? \"))\n",
        "\n",
        "# 5. Repeatedly ask the user the question until it is correct\n",
        "while number1 - number2 != answer:\n",
        "    answer = eval(input(\"Wrong answer. Try again. What is \" \n",
        "        + str(number1) + \" - \" + str(number2) + \"? \"))\n",
        "  \n",
        "print(\"You got it!\")\n"
      ],
      "execution_count": 44,
      "outputs": [
        {
          "output_type": "stream",
          "text": [
            "What is 7 - 1? 6\n",
            "You got it!\n"
          ],
          "name": "stdout"
        }
      ]
    },
    {
      "metadata": {
        "id": "Bo41h1LuNyFL",
        "colab_type": "text"
      },
      "cell_type": "markdown",
      "source": [
        "5-2"
      ]
    },
    {
      "metadata": {
        "id": "9iobn0muNzO8",
        "colab_type": "code",
        "colab": {
          "base_uri": "https://localhost:8080/",
          "height": 68
        },
        "outputId": "a0ac2271-9657-44aa-a9ba-49253f893be5"
      },
      "cell_type": "code",
      "source": [
        "import random\n",
        "\n",
        "# Generate a random number to be guessed\n",
        "number = random.randint(1, 100)\n",
        "\n",
        "print(\"Guess a magic number between 0 and 100\")\n",
        "\n",
        "# Prompt the user to guess the number\n",
        "guess = eval(input(\"Enter your guess: \"))\n",
        "\n",
        "if guess == number:\n",
        "    print(\"Yes, the number is \" + str(number))\n",
        "elif guess > number:\n",
        "    print(\"Your guess is too high\")\n",
        "else:\n",
        "    print(\"Your guess is too low\")\n"
      ],
      "execution_count": 46,
      "outputs": [
        {
          "output_type": "stream",
          "text": [
            "Guess a magic number between 0 and 100\n",
            "Enter your guess: 5\n",
            "Your guess is too low\n"
          ],
          "name": "stdout"
        }
      ]
    },
    {
      "metadata": {
        "id": "apv6KaqkN6Cw",
        "colab_type": "text"
      },
      "cell_type": "markdown",
      "source": [
        "5-3"
      ]
    },
    {
      "metadata": {
        "id": "_gRivMrZN7kf",
        "colab_type": "code",
        "colab": {
          "base_uri": "https://localhost:8080/",
          "height": 340
        },
        "outputId": "36c5ae8c-c886-4c6a-d864-2e21e7712870"
      },
      "cell_type": "code",
      "source": [
        "import random\n",
        "\n",
        "# Generate a random number to be guessed\n",
        "number = random.randint(1, 100)\n",
        "\n",
        "print(\"Guess a magic number between 0 and 100\")\n",
        "\n",
        "guess = -1\n",
        "while guess != number:\n",
        "    # Prompt the user to guess the number\n",
        "    guess = eval(input(\"Enter your guess: \"))\n",
        "\n",
        "    if guess == number:\n",
        "        print(\"Yes, the number is\", number)\n",
        "    elif guess > number:\n",
        "        print(\"Your guess is too high\")\n",
        "    else:\n",
        "        print(\"Your guess is too low\")\n"
      ],
      "execution_count": 47,
      "outputs": [
        {
          "output_type": "stream",
          "text": [
            "Guess a magic number between 0 and 100\n",
            "Enter your guess: 50\n",
            "Your guess is too high\n",
            "Enter your guess: 40\n",
            "Your guess is too high\n",
            "Enter your guess: 30\n",
            "Your guess is too high\n",
            "Enter your guess: 10\n",
            "Your guess is too low\n",
            "Enter your guess: 18\n",
            "Your guess is too low\n",
            "Enter your guess: 23\n",
            "Your guess is too high\n",
            "Enter your guess: 22\n",
            "Your guess is too high\n",
            "Enter your guess: 20\n",
            "Your guess is too low\n",
            "Enter your guess: 21\n",
            "Yes, the number is 21\n"
          ],
          "name": "stdout"
        }
      ]
    },
    {
      "metadata": {
        "id": "bGZ-2KdkOGOD",
        "colab_type": "text"
      },
      "cell_type": "markdown",
      "source": [
        "5-4"
      ]
    },
    {
      "metadata": {
        "id": "-A5tIoa6OHXG",
        "colab_type": "code",
        "colab": {
          "base_uri": "https://localhost:8080/",
          "height": 221
        },
        "outputId": "7157d5ef-a5b2-4587-d272-c3514b847632"
      },
      "cell_type": "code",
      "source": [
        "import random\n",
        "import time\n",
        "\n",
        "correctCount = 0 # Count the number of correct answers\n",
        "count = 0 # Count the number of questions\n",
        "NUMBER_OF_QUESTIONS = 5 # Constant\n",
        "\n",
        "startTime = time.time() # Get start time\n",
        "\n",
        "while count < NUMBER_OF_QUESTIONS:\n",
        "    # 1. Generate two random single-digit integers\n",
        "    number1 = random.randint(0, 9)\n",
        "    number2 = random.randint(0, 9)\n",
        "\n",
        "    # 2. If number1 < number2, swap number1 with number2\n",
        "    if number1 < number2:\n",
        "        number1, number2 = number2, number1\n",
        "\n",
        "    # 3. Prompt the student to answer \"what is number1 - number2?\" \n",
        "    answer = eval(input(\"What is \" + str(number1) + \" - \" + \n",
        "        str(number2) + \"? \"))\n",
        "\n",
        "    # 5. Grade the answer and display the result\n",
        "    if number1 - number2 == answer:\n",
        "        print(\"You are correct!\")\n",
        "        correctCount += 1\n",
        "    else:\n",
        "        print(\"Your answer is wrong.\\n\", number1, \"-\",\n",
        "            number2, \"should be\", (number1 - number2))\n",
        "\n",
        "    # Increase the count\n",
        "    count += 1\n",
        "\n",
        "endTime = time.time() # Get end time\n",
        "testTime = int(endTime - startTime) # Get test time\n",
        "print(\"Correct count is\", correctCount, \"out of\", \n",
        "    NUMBER_OF_QUESTIONS, \"\\nTest time is\", testTime, \"seconds\")\n"
      ],
      "execution_count": 49,
      "outputs": [
        {
          "output_type": "stream",
          "text": [
            "What is 7 - 5? 2\n",
            "You are correct!\n",
            "What is 6 - 2? 4\n",
            "You are correct!\n",
            "What is 5 - 5? 0\n",
            "You are correct!\n",
            "What is 8 - 3? 5\n",
            "You are correct!\n",
            "What is 6 - 0? 6\n",
            "You are correct!\n",
            "Correct count is 5 out of 5 \n",
            "Test time is 13 seconds\n"
          ],
          "name": "stdout"
        }
      ]
    },
    {
      "metadata": {
        "id": "KfvwoItKOXz5",
        "colab_type": "text"
      },
      "cell_type": "markdown",
      "source": [
        "5-5"
      ]
    },
    {
      "metadata": {
        "id": "6jPiViSyOYu6",
        "colab_type": "code",
        "colab": {
          "base_uri": "https://localhost:8080/",
          "height": 102
        },
        "outputId": "caaaa67c-fe89-4ab1-cc5f-1bc20870f4fb"
      },
      "cell_type": "code",
      "source": [
        "data = eval(input(\"Enter an integer (the input exits \" + \n",
        "    \"if the input is 0): \"))\n",
        "\n",
        "# Keep reading data until the input is 0\n",
        "sum = 0\n",
        "while data != 0:\n",
        "    sum += data\n",
        "\n",
        "    data = eval(input(\"Enter an integer (the input exits \" +\n",
        "        \"if the input is 0): \"))\n",
        "\n",
        "print(\"The sum is\", sum)\n"
      ],
      "execution_count": 52,
      "outputs": [
        {
          "output_type": "stream",
          "text": [
            "Enter an integer (the input exits if the input is 0): 2\n",
            "Enter an integer (the input exits if the input is 0): 3\n",
            "Enter an integer (the input exits if the input is 0): 4\n",
            "Enter an integer (the input exits if the input is 0): 0\n",
            "The sum is 9\n"
          ],
          "name": "stdout"
        }
      ]
    },
    {
      "metadata": {
        "id": "78idVzVpOrLj",
        "colab_type": "text"
      },
      "cell_type": "markdown",
      "source": [
        "5-6"
      ]
    },
    {
      "metadata": {
        "id": "uBbYgKfIOuMy",
        "colab_type": "code",
        "colab": {
          "base_uri": "https://localhost:8080/",
          "height": 221
        },
        "outputId": "a6f233c4-1f04-40fd-ba5c-103bd15b0f97"
      },
      "cell_type": "code",
      "source": [
        "print(\"          Multiplication Table\")\n",
        "# Display the number title\n",
        "print(\"  |\", end = '')\n",
        "for j in range(1, 10):\n",
        "    print(\"  \", j, end = '')\n",
        "print() # Jump to the new line\n",
        "print(\"-----------------------------------------\")\n",
        "\n",
        "# Display table body\n",
        "for i in range(1, 10):\n",
        "    print(i, \"|\", end = '')\n",
        "    for j in range(1, 10): \n",
        "        # Display the product and align properly\n",
        "        print(format(i * j, '4d'), end = '')\n",
        "    print()# Jump to the new line\n"
      ],
      "execution_count": 53,
      "outputs": [
        {
          "output_type": "stream",
          "text": [
            "          Multiplication Table\n",
            "  |   1   2   3   4   5   6   7   8   9\n",
            "-----------------------------------------\n",
            "1 |   1   2   3   4   5   6   7   8   9\n",
            "2 |   2   4   6   8  10  12  14  16  18\n",
            "3 |   3   6   9  12  15  18  21  24  27\n",
            "4 |   4   8  12  16  20  24  28  32  36\n",
            "5 |   5  10  15  20  25  30  35  40  45\n",
            "6 |   6  12  18  24  30  36  42  48  54\n",
            "7 |   7  14  21  28  35  42  49  56  63\n",
            "8 |   8  16  24  32  40  48  56  64  72\n",
            "9 |   9  18  27  36  45  54  63  72  81\n"
          ],
          "name": "stdout"
        }
      ]
    },
    {
      "metadata": {
        "id": "fo2V4pRdOzpe",
        "colab_type": "text"
      },
      "cell_type": "markdown",
      "source": [
        "5-7"
      ]
    },
    {
      "metadata": {
        "id": "TSRuqQpoO0ys",
        "colab_type": "code",
        "colab": {
          "base_uri": "https://localhost:8080/",
          "height": 34
        },
        "outputId": "af20aa4e-4989-4bf0-dd9a-caaf69b397c7"
      },
      "cell_type": "code",
      "source": [
        "# Initialize sum\n",
        "sum = 0\n",
        "\n",
        "# Add 0.01, 0.02, ..., 0.99, 1 to sum\n",
        "i = 0.01\n",
        "while i <= 1.0:\n",
        "    sum += i\n",
        "    i = i + 0.01\n",
        "\n",
        "# Display result\n",
        "print(\"The sum is\", sum)"
      ],
      "execution_count": 54,
      "outputs": [
        {
          "output_type": "stream",
          "text": [
            "The sum is 49.50000000000003\n"
          ],
          "name": "stdout"
        }
      ]
    }
  ]
}